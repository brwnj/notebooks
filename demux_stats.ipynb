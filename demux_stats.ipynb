{
 "cells": [
  {
   "cell_type": "code",
   "execution_count": 1,
   "metadata": {
    "collapsed": true
   },
   "outputs": [],
   "source": [
    "%matplotlib inline"
   ]
  },
  {
   "cell_type": "code",
   "execution_count": 316,
   "metadata": {
    "collapsed": false
   },
   "outputs": [],
   "source": [
    "import seaborn as sns\n",
    "import pandas as pd\n",
    "import numpy as np\n",
    "import matplotlib.pyplot as plt\n",
    "import pylab\n",
    "# pylab.rcParams['figure.figsize'] = (8, 10.)\n",
    "# sns.set(font='sans-serif')\n",
    "sns.set_style('whitegrid')"
   ]
  },
  {
   "cell_type": "code",
   "execution_count": 314,
   "metadata": {
    "collapsed": false
   },
   "outputs": [
    {
     "data": {
      "text/html": [
       "<div>\n",
       "<table border=\"1\" class=\"dataframe\">\n",
       "  <thead>\n",
       "    <tr style=\"text-align: right;\">\n",
       "      <th></th>\n",
       "      <th>Count</th>\n",
       "    </tr>\n",
       "    <tr>\n",
       "      <th>Id</th>\n",
       "      <th></th>\n",
       "    </tr>\n",
       "  </thead>\n",
       "  <tbody>\n",
       "    <tr>\n",
       "      <th>natalie-6Apos</th>\n",
       "      <td>1</td>\n",
       "    </tr>\n",
       "    <tr>\n",
       "      <th>natalie-2EN</th>\n",
       "      <td>2</td>\n",
       "    </tr>\n",
       "    <tr>\n",
       "      <th>unmatched</th>\n",
       "      <td>5783327</td>\n",
       "    </tr>\n",
       "    <tr>\n",
       "      <th>total</th>\n",
       "      <td>6223383</td>\n",
       "    </tr>\n",
       "  </tbody>\n",
       "</table>\n",
       "</div>"
      ],
      "text/plain": [
       "                 Count\n",
       "Id                    \n",
       "natalie-6Apos        1\n",
       "natalie-2EN          2\n",
       "unmatched      5783327\n",
       "total          6223383"
      ]
     },
     "execution_count": 314,
     "metadata": {},
     "output_type": "execute_result"
    }
   ],
   "source": [
    "# messing with cols when setting index\n",
    "df = pd.read_table(\"data/fastq_multx_demultiplexing_counts.tsv\", index_col=False, usecols=[0,1], header=0)\n",
    "df = df.set_index(['Id'])\n",
    "df.tail(4)"
   ]
  },
  {
   "cell_type": "code",
   "execution_count": 315,
   "metadata": {
    "collapsed": false
   },
   "outputs": [
    {
     "data": {
      "text/html": [
       "<div>\n",
       "<table border=\"1\" class=\"dataframe\">\n",
       "  <thead>\n",
       "    <tr style=\"text-align: right;\">\n",
       "      <th></th>\n",
       "      <th>Count</th>\n",
       "    </tr>\n",
       "    <tr>\n",
       "      <th>Id</th>\n",
       "      <th></th>\n",
       "    </tr>\n",
       "  </thead>\n",
       "  <tbody>\n",
       "    <tr>\n",
       "      <th>natalie-6Apos</th>\n",
       "      <td>1</td>\n",
       "    </tr>\n",
       "    <tr>\n",
       "      <th>natalie-2EN</th>\n",
       "      <td>2</td>\n",
       "    </tr>\n",
       "  </tbody>\n",
       "</table>\n",
       "</div>"
      ],
      "text/plain": [
       "               Count\n",
       "Id                  \n",
       "natalie-6Apos      1\n",
       "natalie-2EN        2"
      ]
     },
     "execution_count": 315,
     "metadata": {},
     "output_type": "execute_result"
    }
   ],
   "source": [
    "tdf = df.drop(df.loc[['unmatched','total']].index)\n",
    "tdf.tail(2)"
   ]
  },
  {
   "cell_type": "code",
   "execution_count": 262,
   "metadata": {
    "collapsed": false
   },
   "outputs": [],
   "source": [
    "v = tdf['Count'].values"
   ]
  },
  {
   "cell_type": "code",
   "execution_count": 267,
   "metadata": {
    "collapsed": false
   },
   "outputs": [],
   "source": [
    "def Lc(x):\n",
    "    \"\"\"Computes the ordinary and generalized Lorenz curve of a list.\n",
    "    \n",
    "     In R:\n",
    "     > library(ineq)\n",
    "     > t <- c(1,2,6,7,8)\n",
    "     > lc <- Lc(t)\n",
    "     > lc$p\n",
    "     [1] 0.0 0.2 0.4 0.6 0.8 1.0\n",
    "     > lc$L\n",
    "     [1] 0.00000000 0.04166667 0.12500000 0.37500000 0.66666667 1.00000000\n",
    "\n",
    "     Args:\n",
    "         x (list): list or array of positive numbers\n",
    "    \n",
    "     Returns:\n",
    "         tuple: list of percentages, list with values of the ordinary Lorenze curve\n",
    "\n",
    "    >>> import numpy as np\n",
    "    >>> t = [1,2,np.nan,7,8]\n",
    "    >>> p, L, Lg = Lc(t)\n",
    "    >>> len(p) == len(L) == Len(Lg)\n",
    "    True\n",
    "    >>> p[1:4]\n",
    "    array([ 0.25,  0.5 ,  0.75])\n",
    "    >>> L[1:4] # doctest: +ELLIPSIS\n",
    "    array([ 0.055...,  0.166...,  0.555...])\n",
    "    >>> Lg[1:4]\n",
    "    array([ 0.25,  0.75,  2.5 ])\n",
    "    >>> t = [1,2,np.nan,7,-8]\n",
    "    >>> Lc(t)\n",
    "    Traceback (most recent call last)\n",
    "     ...\n",
    "    ValueError: x contained negative number\n",
    "    \"\"\"\n",
    "    assert len(x) > 0, \"x is empty\"\n",
    "    a = np.array(x, dtype=float)\n",
    "    a = a[np.isfinite(a)]\n",
    "    if a.min() < 0:\n",
    "        raise ValueError(\"x contained negative number\")\n",
    "    a.sort(kind='mergesort')\n",
    "    a_len = len(a)\n",
    "    p = np.arange(1, len(a) + 1) / len(a)\n",
    "    p = np.append([0], p)\n",
    "    L = a.cumsum() / a.sum()\n",
    "    L = np.append([0], L)\n",
    "    Lg = L * np.mean(a)\n",
    "    return p, L, Lg"
   ]
  },
  {
   "cell_type": "code",
   "execution_count": 264,
   "metadata": {
    "collapsed": false
   },
   "outputs": [],
   "source": [
    "def Gini(x, corr=False):\n",
    "    \"\"\"Calculates Gini coefficient, the measure of inequality among values\n",
    "    of a frequency distribution. A Gini coefficient of zero expresses\n",
    "    perfect equality.\n",
    "\n",
    "    Port from ineq package in R.\n",
    "    \n",
    "    In R:\n",
    "    > library(ineq)\n",
    "    > t <- c(1,2,6,7,8)\n",
    "    > Gini(t)\n",
    "    [1] 0.3166667\n",
    "    > Gini(t, corr=TRUE)\n",
    "    [1] 0.3958333\n",
    "\n",
    "    Args:\n",
    "        x (list): list or array of numbers\n",
    "        corr (Optional[bool]): finite sample correction\n",
    "\n",
    "    Returns:\n",
    "        float\n",
    "    \n",
    "    >>> import numpy as np\n",
    "    >>> t = [1,2,6,7,8]\n",
    "    >>> Gini(t) # doctest: +ELLIPSIS\n",
    "    0.3166...\n",
    "    >>> Gini(t, corr=True)\n",
    "    0.3958...\n",
    "    >>> Gini([])\n",
    "    Traceback (most recent call last):\n",
    "     ...\n",
    "    AssertionError: x is empty\n",
    "    >>> t = [1,2,6,7,\"A\"]\n",
    "    >>> Gini(t)\n",
    "    Traceback (most recent call last):\n",
    "     ...\n",
    "    ValueError: could not convert...\n",
    "    \"\"\"\n",
    "    x = np.array(x, dtype=float)\n",
    "    n = len(x)\n",
    "    assert n > 0, \"x is empty\"\n",
    "    x.sort(kind='mergesort')\n",
    "    G = sum(np.arange(1, n + 1) * x)\n",
    "    G = 2 * G / sum(x) - (n + 1)\n",
    "    if corr:\n",
    "        return G / (n - 1)\n",
    "    else:\n",
    "        return G / n"
   ]
  },
  {
   "cell_type": "code",
   "execution_count": 320,
   "metadata": {
    "collapsed": false
   },
   "outputs": [
    {
     "name": "stdout",
     "output_type": "stream",
     "text": [
      "0.846886978861\n"
     ]
    },
    {
     "data": {
      "image/png": "[encoded data removed]",
      "text/plain": [
       "<matplotlib.figure.Figure at 0x10c5e25f8>"
      ]
     },
     "metadata": {},
     "output_type": "display_data"
    }
   ],
   "source": [
    "p, L, _ = Lc(v)\n",
    "G = Gini(v)\n",
    "plt.plot(p, L)\n",
    "plt.plot([0., max(L)], color='k', linewidth=1, linestyle='dashed')\n",
    "plt.xlabel(\"Cumulative Fraction of Samples\")\n",
    "plt.ylabel(\"Fraction of Reads\")\n",
    "plt.title(\"Read Distribution\")\n",
    "print(G)"
   ]
  },
  {
   "cell_type": "code",
   "execution_count": null,
   "metadata": {
    "collapsed": true
   },
   "outputs": [],
   "source": []
  }
 ],
 "metadata": {
  "kernelspec": {
   "display_name": "Python 3",
   "language": "python",
   "name": "python3"
  },
  "language_info": {
   "codemirror_mode": {
    "name": "ipython",
    "version": 3
   },
   "file_extension": ".py",
   "mimetype": "text/x-python",
   "name": "python",
   "nbconvert_exporter": "python",
   "pygments_lexer": "ipython3",
   "version": "3.4.3"
  }
 },
 "nbformat": 4,
 "nbformat_minor": 0
}
