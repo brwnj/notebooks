{
 "cells": [
  {
   "cell_type": "code",
   "execution_count": 164,
   "metadata": {
    "collapsed": true
   },
   "outputs": [],
   "source": [
    "import plotly.plotly as py\n",
    "import cufflinks as cf\n",
    "import pandas as pd\n",
    "import numpy as np\n",
    "import plotly.plotly as py\n",
    "import plotly.graph_objs as go\n",
    "\n",
    "# ['pearl', 'white', 'ggplot', 'solar', 'space']\n",
    "cf.set_config_file(offline=False, world_readable=True, theme='ggplot')"
   ]
  },
  {
   "cell_type": "markdown",
   "metadata": {},
   "source": [
    "# Statistics Files Per Run\n",
    "## Barcode Stats"
   ]
  },
  {
   "cell_type": "code",
   "execution_count": 178,
   "metadata": {
    "collapsed": false
   },
   "outputs": [
    {
     "data": {
      "text/html": [
       "<div>\n",
       "<table border=\"1\" class=\"dataframe\">\n",
       "  <thead>\n",
       "    <tr style=\"text-align: right;\">\n",
       "      <th></th>\n",
       "      <th>index</th>\n",
       "      <th>RunID</th>\n",
       "      <th>OnTarget</th>\n",
       "      <th>OffTarget</th>\n",
       "      <th>Unmatched</th>\n",
       "      <th>GiniCoefficient</th>\n",
       "    </tr>\n",
       "  </thead>\n",
       "  <tbody>\n",
       "    <tr>\n",
       "      <th>0</th>\n",
       "      <td>0</td>\n",
       "      <td>2015-01-21</td>\n",
       "      <td>0.021433</td>\n",
       "      <td>0.685864</td>\n",
       "      <td>0.292704</td>\n",
       "      <td>0.451497</td>\n",
       "    </tr>\n",
       "    <tr>\n",
       "      <th>1</th>\n",
       "      <td>0</td>\n",
       "      <td>2015-03-02</td>\n",
       "      <td>0.041888</td>\n",
       "      <td>0.677877</td>\n",
       "      <td>0.280235</td>\n",
       "      <td>0.293522</td>\n",
       "    </tr>\n",
       "    <tr>\n",
       "      <th>2</th>\n",
       "      <td>0</td>\n",
       "      <td>2015-04-13</td>\n",
       "      <td>0.708665</td>\n",
       "      <td>0.000661</td>\n",
       "      <td>0.290674</td>\n",
       "      <td>0.363067</td>\n",
       "    </tr>\n",
       "  </tbody>\n",
       "</table>\n",
       "</div>"
      ],
      "text/plain": [
       "   index      RunID  OnTarget  OffTarget  Unmatched  GiniCoefficient\n",
       "0      0 2015-01-21  0.021433   0.685864   0.292704         0.451497\n",
       "1      0 2015-03-02  0.041888   0.677877   0.280235         0.293522\n",
       "2      0 2015-04-13  0.708665   0.000661   0.290674         0.363067"
      ]
     },
     "execution_count": 178,
     "metadata": {},
     "output_type": "execute_result"
    }
   ],
   "source": [
    "# transition to read this from constance\n",
    "barcode_stats = glob(\"/Users/brow015/Downloads/miseq/*/run_stats/barcode_stats.csv\")\n",
    "bs = df_from_csvs(barcode_stats, header=0)\n",
    "# bs['RunID'] = bs['RunID'].apply(lambda x: x.split(\"_\")[0] + \"_\" + x.split(\"-\")[-1])\n",
    "bs['RunID'] = bs['RunID'].apply(lambda x: x.split(\"_\")[0])\n",
    "bs['RunID'] = pd.to_datetime(bs['RunID'])\n",
    "bs.reset_index(inplace=True)\n",
    "bs.head(3)"
   ]
  },
  {
   "cell_type": "markdown",
   "metadata": {},
   "source": [
    "## Sample Stats"
   ]
  },
  {
   "cell_type": "code",
   "execution_count": 179,
   "metadata": {
    "collapsed": false
   },
   "outputs": [
    {
     "name": "stdout",
     "output_type": "stream",
     "text": [
      "Observations plus the controls:  3722\n"
     ]
    },
    {
     "data": {
      "text/html": [
       "<div>\n",
       "<table border=\"1\" class=\"dataframe\">\n",
       "  <thead>\n",
       "    <tr style=\"text-align: right;\">\n",
       "      <th></th>\n",
       "      <th>index</th>\n",
       "      <th>sample</th>\n",
       "      <th>run_id</th>\n",
       "      <th>individual_reads</th>\n",
       "      <th>joined_pairs</th>\n",
       "      <th>contaminated_reads</th>\n",
       "      <th>paired_reads</th>\n",
       "      <th>unjoined_pairs</th>\n",
       "    </tr>\n",
       "  </thead>\n",
       "  <tbody>\n",
       "    <tr>\n",
       "      <th>0</th>\n",
       "      <td>0</td>\n",
       "      <td>s7163C</td>\n",
       "      <td>2015-01-21</td>\n",
       "      <td>4</td>\n",
       "      <td>0</td>\n",
       "      <td>1</td>\n",
       "      <td>2</td>\n",
       "      <td>2</td>\n",
       "    </tr>\n",
       "    <tr>\n",
       "      <th>1</th>\n",
       "      <td>1</td>\n",
       "      <td>s8110A</td>\n",
       "      <td>2015-01-21</td>\n",
       "      <td>0</td>\n",
       "      <td>NaN</td>\n",
       "      <td>NaN</td>\n",
       "      <td>0</td>\n",
       "      <td>NaN</td>\n",
       "    </tr>\n",
       "    <tr>\n",
       "      <th>2</th>\n",
       "      <td>2</td>\n",
       "      <td>s7246C</td>\n",
       "      <td>2015-01-21</td>\n",
       "      <td>0</td>\n",
       "      <td>NaN</td>\n",
       "      <td>NaN</td>\n",
       "      <td>0</td>\n",
       "      <td>NaN</td>\n",
       "    </tr>\n",
       "  </tbody>\n",
       "</table>\n",
       "</div>"
      ],
      "text/plain": [
       "   index  sample     run_id  individual_reads  joined_pairs  \\\n",
       "0      0  s7163C 2015-01-21                 4             0   \n",
       "1      1  s8110A 2015-01-21                 0           NaN   \n",
       "2      2  s7246C 2015-01-21                 0           NaN   \n",
       "\n",
       "   contaminated_reads  paired_reads  unjoined_pairs  \n",
       "0                   1             2               2  \n",
       "1                 NaN             0             NaN  \n",
       "2                 NaN             0             NaN  "
      ]
     },
     "execution_count": 179,
     "metadata": {},
     "output_type": "execute_result"
    }
   ],
   "source": [
    "sample_stats = glob(\"/Users/brow015/Downloads/miseq/*/run_stats/sample_stats.csv\")\n",
    "ss = df_from_csvs(sample_stats, header=0)\n",
    "# ss['run_id'] = ss['run_id'].apply(lambda x: x.split(\"_\")[0] + \"_\" + x.split(\"-\")[-1])\n",
    "ss['run_id'] = ss['run_id'].apply(lambda x: x.split(\"_\")[0])\n",
    "ss['run_id'] = pd.to_datetime(ss['run_id'])\n",
    "ss['paired_reads'] = ss['individual_reads'] / 2\n",
    "ss['unjoined_pairs'] = ss['paired_reads'] - ss['joined_pairs']\n",
    "ss.reset_index(inplace=True)\n",
    "print(\"Observations plus the controls: \", len(ss.values))\n",
    "ss.head(3)"
   ]
  },
  {
   "cell_type": "code",
   "execution_count": 180,
   "metadata": {
    "collapsed": false
   },
   "outputs": [
    {
     "name": "stdout",
     "output_type": "stream",
     "text": [
      "Minus the controls:  3608\n"
     ]
    }
   ],
   "source": [
    "# remove the control samples from the stats tables\n",
    "# the names vary greatly across experiments - need to standardize\n",
    "controls = ['standard', 'xylanomonas', 'synecho','cytophaga', 'shewanella', 'subtilis', 'saccharophagus',\n",
    "            'flavobacterium', 'metallosphaera', 'phiX', 'syn7002', 'std1', 'std2', 'std3', 'std4', 'std5', 'std6',\n",
    "            'stds1', 'stds2', 'stds3', 'stds4', 'stds5', 'stds6', 'Standard', 'MR-1', 'MR1', 'blank', 'Blank']\n",
    "ss_sub = ss[ss['sample'].str.contains(\"|\".join(controls)) == False]\n",
    "print(\"Minus the controls: \", len(ss_sub.values))"
   ]
  },
  {
   "cell_type": "code",
   "execution_count": 181,
   "metadata": {
    "collapsed": false
   },
   "outputs": [
    {
     "data": {
      "text/html": [
       "<div>\n",
       "<table border=\"1\" class=\"dataframe\">\n",
       "  <thead>\n",
       "    <tr style=\"text-align: right;\">\n",
       "      <th></th>\n",
       "      <th>run_id</th>\n",
       "      <th>paired_reads</th>\n",
       "    </tr>\n",
       "  </thead>\n",
       "  <tbody>\n",
       "    <tr>\n",
       "      <th>0</th>\n",
       "      <td>2015-01-21</td>\n",
       "      <td>301491</td>\n",
       "    </tr>\n",
       "    <tr>\n",
       "      <th>1</th>\n",
       "      <td>2015-03-02</td>\n",
       "      <td>540755</td>\n",
       "    </tr>\n",
       "    <tr>\n",
       "      <th>2</th>\n",
       "      <td>2015-04-13</td>\n",
       "      <td>9218595</td>\n",
       "    </tr>\n",
       "  </tbody>\n",
       "</table>\n",
       "</div>"
      ],
      "text/plain": [
       "      run_id  paired_reads\n",
       "0 2015-01-21        301491\n",
       "1 2015-03-02        540755\n",
       "2 2015-04-13       9218595"
      ]
     },
     "execution_count": 181,
     "metadata": {},
     "output_type": "execute_result"
    }
   ],
   "source": [
    "# read totals across runs minus the controls\n",
    "totes = ss_sub.groupby(by=['run_id'])['paired_reads'].sum()\n",
    "totes = totes.reset_index()\n",
    "totes.head(3)"
   ]
  },
  {
   "cell_type": "markdown",
   "metadata": {},
   "source": [
    "# Demultiplexing Efficiency\n",
    "Since we are supplying a reference with all known barcodes, we can determine how many reads map to their respective barcode target, how many hit other, previously used barcodes, and the number that are unmatched."
   ]
  },
  {
   "cell_type": "code",
   "execution_count": 186,
   "metadata": {
    "collapsed": false
   },
   "outputs": [
    {
     "data": {
      "text/html": [
       "<iframe id=\"igraph\" scrolling=\"no\" style=\"border:none;\"seamless=\"seamless\" src=\"https://plot.ly/~brwnjm/72.embed\" height=\"525px\" width=\"100%\"></iframe>"
      ],
      "text/plain": [
       "<plotly.tools.PlotlyDisplay object>"
      ]
     },
     "execution_count": 186,
     "metadata": {},
     "output_type": "execute_result"
    }
   ],
   "source": [
    "bs_sub = bs[['RunID', 'OnTarget', 'OffTarget', 'Unmatched']].set_index('RunID')\n",
    "bs_sub.iplot(kind='area', fill=True, title='Demultiplexing Efficiency')"
   ]
  },
  {
   "cell_type": "markdown",
   "metadata": {},
   "source": [
    "# On-Target Read Yield Across Runs\n",
    "The totals include the controls, but do not count reads that have a mismatch in their barcode sequence."
   ]
  },
  {
   "cell_type": "code",
   "execution_count": 183,
   "metadata": {
    "collapsed": false
   },
   "outputs": [
    {
     "data": {
      "text/html": [
       "<iframe id=\"igraph\" scrolling=\"no\" style=\"border:none;\"seamless=\"seamless\" src=\"https://plot.ly/~brwnjm/74.embed\" height=\"525px\" width=\"100%\"></iframe>"
      ],
      "text/plain": [
       "<plotly.tools.PlotlyDisplay object>"
      ]
     },
     "execution_count": 183,
     "metadata": {},
     "output_type": "execute_result"
    }
   ],
   "source": [
    "df = totes.set_index('run_id')\n",
    "df.iplot(kind='bar', title='Raw Read Yield')"
   ]
  },
  {
   "cell_type": "markdown",
   "metadata": {},
   "source": [
    "# Distribution of Reads Across Barcodes\n",
    "Using the Gini Coefficient, we can get a sense of how evenly the reads were distributed across samples per run. A low value indicates more even distribution."
   ]
  },
  {
   "cell_type": "code",
   "execution_count": 184,
   "metadata": {
    "collapsed": false
   },
   "outputs": [
    {
     "data": {
      "text/html": [
       "<iframe id=\"igraph\" scrolling=\"no\" style=\"border:none;\"seamless=\"seamless\" src=\"https://plot.ly/~brwnjm/76.embed\" height=\"525px\" width=\"100%\"></iframe>"
      ],
      "text/plain": [
       "<plotly.tools.PlotlyDisplay object>"
      ]
     },
     "execution_count": 184,
     "metadata": {},
     "output_type": "execute_result"
    }
   ],
   "source": [
    "df = bs[['RunID', 'GiniCoefficient']].set_index('RunID')\n",
    "df.iplot(kind='bar', title='On-Target Gini Coefficient (lower is better)')"
   ]
  },
  {
   "cell_type": "markdown",
   "metadata": {},
   "source": [
    "# Paired-Read Totals Per Sample"
   ]
  },
  {
   "cell_type": "code",
   "execution_count": 185,
   "metadata": {
    "collapsed": false
   },
   "outputs": [
    {
     "data": {
      "text/html": [
       "<iframe id=\"igraph\" scrolling=\"no\" style=\"border:none;\"seamless=\"seamless\" src=\"https://plot.ly/~brwnjm/78.embed\" height=\"525px\" width=\"100%\"></iframe>"
      ],
      "text/plain": [
       "<plotly.tools.PlotlyDisplay object>"
      ]
     },
     "execution_count": 185,
     "metadata": {},
     "output_type": "execute_result"
    }
   ],
   "source": [
    "df = ss_sub.pivot_table('paired_reads', 'sample', 'run_id')\n",
    "df.iplot(kind='box', title='Read Pairs Per Sample')"
   ]
  },
  {
   "cell_type": "markdown",
   "metadata": {},
   "source": [
    "#Joining 16S Data\n",
    "Reads are joined using `fastq-join -p 240 -m 2`, meaning we require 240 bp overlap with a maximum of 2 mismatches allowed."
   ]
  },
  {
   "cell_type": "code",
   "execution_count": 188,
   "metadata": {
    "collapsed": false
   },
   "outputs": [
    {
     "data": {
      "text/html": [
       "<iframe id=\"igraph\" scrolling=\"no\" style=\"border:none;\"seamless=\"seamless\" src=\"https://plot.ly/~brwnjm/82.embed\" height=\"525px\" width=\"100%\"></iframe>"
      ],
      "text/plain": [
       "<plotly.tools.PlotlyDisplay object>"
      ]
     },
     "execution_count": 188,
     "metadata": {},
     "output_type": "execute_result"
    }
   ],
   "source": [
    "df = ss_sub.pivot_table('joined_pairs', 'sample', 'run_id')\n",
    "df.iplot(kind='box', title='Joined Pairs Per Sample')"
   ]
  },
  {
   "cell_type": "markdown",
   "metadata": {},
   "source": [
    "#Cross-Contamination\n",
    "Reads are mapped to positive control, 16S sequences using BWA. We require 95% overlap of mapped bases matching at 99% identity."
   ]
  },
  {
   "cell_type": "code",
   "execution_count": 189,
   "metadata": {
    "collapsed": false
   },
   "outputs": [
    {
     "data": {
      "text/html": [
       "<iframe id=\"igraph\" scrolling=\"no\" style=\"border:none;\"seamless=\"seamless\" src=\"https://plot.ly/~brwnjm/84.embed\" height=\"525px\" width=\"100%\"></iframe>"
      ],
      "text/plain": [
       "<plotly.tools.PlotlyDisplay object>"
      ]
     },
     "execution_count": 189,
     "metadata": {},
     "output_type": "execute_result"
    }
   ],
   "source": [
    "df = ss_sub.pivot_table('contaminated_reads', 'sample', 'run_id')\n",
    "df.iplot(kind='box', title='Contaminated Reads Per Sample')"
   ]
  }
 ],
 "metadata": {
  "kernelspec": {
   "display_name": "Python 3",
   "language": "python",
   "name": "python3"
  },
  "language_info": {
   "codemirror_mode": {
    "name": "ipython",
    "version": 3
   },
   "file_extension": ".py",
   "mimetype": "text/x-python",
   "name": "python",
   "nbconvert_exporter": "python",
   "pygments_lexer": "ipython3",
   "version": "3.4.3"
  }
 },
 "nbformat": 4,
 "nbformat_minor": 0
}
